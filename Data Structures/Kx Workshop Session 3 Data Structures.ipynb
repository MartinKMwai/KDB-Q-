{
 "cells": [
  {
   "cell_type": "code",
   "execution_count": 3,
   "metadata": {
    "autorun": true,
    "init_cell": true,
    "jupyter": {
     "source_hidden": true
    }
   },
   "outputs": [
    {
     "name": "stdout",
     "output_type": "stream",
     "text": [
      "\"Initializing variables\"\n",
      "\"Loaded Weather CSV\"\n",
      "\"Loaded Taxi Trips partitioned DB\"\n",
      "\"Defining exercise results\"\n",
      "\"Ready\"\n"
     ]
    }
   ],
   "source": [
    "system\"cd \",getenv[`HOME],\"/course-introductory-workshop\"\n",
    ".trn.nbdir:system\"cd\"\n",
    "\\l scripts/loaddata.q"
   ]
  },
  {
   "cell_type": "markdown",
   "metadata": {},
   "source": [
    "**Learning objectives**\n",
    "\n",
    "To understand:\n",
    "\n",
    "* What are lists?\n",
    "* Casting\n",
    "* Obtaining random data\n",
    "* List amendment\n",
    "* Dictionaries\n",
    "* Tables"
   ]
  },
  {
   "cell_type": "markdown",
   "metadata": {},
   "source": [
    "# Lists\n",
    "\n",
    "[code.kx - q4m - lists](https://code.kx.com/q4m3/3_Lists/)\n",
    "\n",
    "So far we have seen how a _table_ is a natural fit for storing and analyzing huge amounts of data. Under the covers though, q exploits a more fundamental data structure to build the table: the _list_. A large part of the performance edge of kdb+/q comes from its ability to work directly with lists – every user should be familiar with them!\n",
    "\n",
    "To get our hands on our first list, consider the `trips` table that we already met. If all you care about is the amount people paid for their journey, we can inspect the `fare` column. You have already seen we can `select` out just the column of interest, with an optional Where phrase."
   ]
  },
  {
   "cell_type": "code",
   "execution_count": 6,
   "metadata": {},
   "outputs": [
    {
     "data": {
      "text/plain": [
       "c   | t f a\n",
       "----| -----\n",
       "fare| f    \n"
      ]
     },
     "execution_count": 6,
     "metadata": {},
     "output_type": "execute_result"
    },
    {
     "data": {
      "text/plain": [
       "fare\n",
       "----\n",
       "5.7 \n",
       "4.9 \n",
       "4.9 \n",
       "4.5 \n",
       "4.9 \n",
       "15.3\n",
       "3.7 \n",
       "8.5 \n",
       "13.3\n",
       "11.3\n",
       "22.5\n",
       "6.9 \n",
       "16.5\n",
       "24.1\n",
       "9.3 \n",
       "9.3 \n",
       "6.1 \n",
       "8.1 \n",
       "5.7 \n",
       "8.5 \n",
       "..\n"
      ]
     },
     "execution_count": 6,
     "metadata": {},
     "output_type": "execute_result"
    }
   ],
   "source": [
    "vtsfares:select fare from trips where date = 2009.01.01, vendor=`VTS\n",
    "meta vtsfares\n",
    "vtsfares"
   ]
  },
  {
   "cell_type": "markdown",
   "metadata": {},
   "source": [
    "Since tables in kdb+/q are *column-oriented*, columns can be extracted simply by indexing into the table with the column name, returning the column as a contiguous vector, or *list*. "
   ]
  },
  {
   "cell_type": "code",
   "execution_count": 7,
   "metadata": {},
   "outputs": [
    {
     "data": {
      "text/plain": [
       "5.7 4.9 4.9 4.5 4.9 15.3 3.7 8.5 13.3 11.3 22.5 6.9 16.5 24.1 9.3 9.3 6.1 8.1..\n"
      ]
     },
     "execution_count": 7,
     "metadata": {},
     "output_type": "execute_result"
    }
   ],
   "source": [
    "fares: vtsfares[`fare]\n",
    "fares"
   ]
  },
  {
   "cell_type": "markdown",
   "metadata": {},
   "source": [
    "To check that we've got what we expect, we can use the `type` operator:"
   ]
  },
  {
   "cell_type": "code",
   "execution_count": 8,
   "metadata": {},
   "outputs": [
    {
     "data": {
      "text/plain": [
       "9h\n"
      ]
     },
     "execution_count": 8,
     "metadata": {},
     "output_type": "execute_result"
    }
   ],
   "source": [
    "type fares"
   ]
  },
  {
   "cell_type": "markdown",
   "metadata": {},
   "source": [
    "The number is positive and under 20: we have a *simple list*. \n",
    "In a simple list, the items all have the same type.\n",
    "\n",
    "When a list has items of different types, it is referred to as a *general list*. \n",
    "For example, a pair representing the taxi company and the fare paid could look like:"
   ]
  },
  {
   "cell_type": "code",
   "execution_count": 9,
   "metadata": {},
   "outputs": [
    {
     "data": {
      "text/plain": [
       "`VTS\n",
       "23.45\n"
      ]
     },
     "execution_count": 9,
     "metadata": {},
     "output_type": "execute_result"
    }
   ],
   "source": [
    "general:(`VTS;23.45);\n",
    "general"
   ]
  },
  {
   "cell_type": "markdown",
   "metadata": {},
   "source": [
    "While simple lists always have strictly positive values returned by type, general lists always have type zero."
   ]
  },
  {
   "cell_type": "code",
   "execution_count": 10,
   "metadata": {},
   "outputs": [
    {
     "data": {
      "text/plain": [
       "0h\n"
      ]
     },
     "execution_count": 10,
     "metadata": {},
     "output_type": "execute_result"
    }
   ],
   "source": [
    "type general"
   ]
  },
  {
   "cell_type": "markdown",
   "metadata": {},
   "source": [
    "Joining entities of different types with the comma operator will produce a mixed list"
   ]
  },
  {
   "cell_type": "code",
   "execution_count": 14,
   "metadata": {},
   "outputs": [
    {
     "data": {
      "text/plain": [
       "2018.01.01\n",
       "102\n",
       "`hello\n",
       "\"world\"\n"
      ]
     },
     "execution_count": 14,
     "metadata": {},
     "output_type": "execute_result"
    },
    {
     "data": {
      "text/plain": [
       "0h\n"
      ]
     },
     "execution_count": 14,
     "metadata": {},
     "output_type": "execute_result"
    },
    {
     "data": {
      "text/plain": [
       "11h\n"
      ]
     },
     "execution_count": 14,
     "metadata": {},
     "output_type": "execute_result"
    }
   ],
   "source": [
    "general:2018.01.01,102,`hello,enlist \"world\"\n",
    "general\n",
    "type general\n",
    "new:enlist `Martin\n",
    "type new"
   ]
  },
  {
   "cell_type": "markdown",
   "metadata": {},
   "source": [
    "A list can be _empty_ - if there had been a typo in the select statement, and we inquired about a non-existent cab company, we would see:"
   ]
  },
  {
   "cell_type": "code",
   "execution_count": 16,
   "metadata": {},
   "outputs": [
    {
     "data": {
      "text/plain": [
       "`float$()\n"
      ]
     },
     "execution_count": 16,
     "metadata": {},
     "output_type": "execute_result"
    }
   ],
   "source": [
    "svtfares:select fare from trips where month=2009.01m, vendor=`SVT\n",
    "svtfares`fare"
   ]
  },
  {
   "cell_type": "markdown",
   "metadata": {},
   "source": [
    "## Casting\n",
    "\n",
    "From the result above you can see `$` used to [cast](https://code.kx.com/q/ref/cast/) an empty list. \n",
    "\n",
    "When working with data, it is often necessary to cast (change) the data from one type e.g. a time like `09:30:00` to another e.g. a datetime like `2020.05.19T09:30:00`. We can use the `$` to cast a non-textual data type to another data type: "
   ]
  },
  {
   "cell_type": "code",
   "execution_count": 17,
   "metadata": {},
   "outputs": [
    {
     "data": {
      "text/plain": [
       "7h\n"
      ]
     },
     "execution_count": 17,
     "metadata": {},
     "output_type": "execute_result"
    },
    {
     "data": {
      "text/plain": [
       "1 2f\n"
      ]
     },
     "execution_count": 17,
     "metadata": {},
     "output_type": "execute_result"
    },
    {
     "data": {
      "text/plain": [
       "1 2f\n"
      ]
     },
     "execution_count": 17,
     "metadata": {},
     "output_type": "execute_result"
    },
    {
     "data": {
      "text/plain": [
       "1 2f\n"
      ]
     },
     "execution_count": 17,
     "metadata": {},
     "output_type": "execute_result"
    }
   ],
   "source": [
    "type 1, 2\n",
    "`float$1 2 //using it's symbol name \n",
    "\"f\"$1 2  //using it's character letter\n",
    "9h$1 2   //using it's short value"
   ]
  },
  {
   "cell_type": "markdown",
   "metadata": {},
   "source": [
    "We can create an empty list as a general (i.e.untyped) list, or create a typed empty list:"
   ]
  },
  {
   "cell_type": "code",
   "execution_count": 18,
   "metadata": {},
   "outputs": [
    {
     "data": {
      "text/plain": []
     },
     "execution_count": 18,
     "metadata": {},
     "output_type": "execute_result"
    },
    {
     "data": {
      "text/plain": [
       "`long$()\n"
      ]
     },
     "execution_count": 18,
     "metadata": {},
     "output_type": "execute_result"
    }
   ],
   "source": [
    "() //general list \n",
    "`long$() //list of type long"
   ]
  },
  {
   "cell_type": "markdown",
   "metadata": {},
   "source": [
    "We can look at the results just by passing the variable name `fares`:"
   ]
  },
  {
   "cell_type": "code",
   "execution_count": 19,
   "metadata": {},
   "outputs": [
    {
     "data": {
      "text/plain": [
       "5.7 4.9 4.9 4.5 4.9 15.3 3.7 8.5 13.3 11.3 22.5 6.9 16.5 24.1 9.3 9.3 6.1 8.1..\n"
      ]
     },
     "execution_count": 19,
     "metadata": {},
     "output_type": "execute_result"
    }
   ],
   "source": [
    "fares"
   ]
  },
  {
   "cell_type": "markdown",
   "metadata": {},
   "source": [
    "Yikes! That's a lot of screenspace to waste. \n",
    "To save the electrons, we can just look at the first few elements using the `sublist` operator:"
   ]
  },
  {
   "cell_type": "code",
   "execution_count": 22,
   "metadata": {},
   "outputs": [
    {
     "data": {
      "text/plain": [
       "5.7 4.9 4.9 4.5 4.9 15.3 3.7 8.5 13.3 11.3\n"
      ]
     },
     "execution_count": 22,
     "metadata": {},
     "output_type": "execute_result"
    },
    {
     "data": {
      "text/plain": [
       "fare\n",
       "----\n",
       "5.7 \n",
       "4.9 \n",
       "4.9 \n",
       "4.5 \n",
       "4.9 \n",
       "15.3\n",
       "3.7 \n",
       "8.5 \n",
       "13.3\n",
       "11.3\n"
      ]
     },
     "execution_count": 22,
     "metadata": {},
     "output_type": "execute_result"
    }
   ],
   "source": [
    "10 sublist fares\n",
    "10#vtsfares"
   ]
  },
  {
   "cell_type": "markdown",
   "metadata": {},
   "source": [
    "sublist is clever - to get the _last_ few elements, all you have to do is give a negative number:"
   ]
  },
  {
   "cell_type": "code",
   "execution_count": 23,
   "metadata": {},
   "outputs": [
    {
     "data": {
      "text/plain": [
       "12.9 4.9 44.5 5.3 19.3 9.3 8.9 45 9.7 4.5\n"
      ]
     },
     "execution_count": 23,
     "metadata": {},
     "output_type": "execute_result"
    }
   ],
   "source": [
    "-10 sublist fares"
   ]
  },
  {
   "cell_type": "markdown",
   "metadata": {
    "reveal": "5mz0dm6n1tv",
    "reveal-hidden": false,
    "tags": []
   },
   "source": [
    "##### Exercise 13\n",
    "- Use sublist to get the second 10 elements in the list"
   ]
  },
  {
   "cell_type": "code",
   "execution_count": null,
   "metadata": {
    "reveal": "5mz0dm6n1tv"
   },
   "outputs": [],
   "source": [
    "-10 sublist 20 sublist fares\n",
    "//alternative way - 10 10 sublist fares"
   ]
  },
  {
   "cell_type": "code",
   "execution_count": 25,
   "metadata": {},
   "outputs": [
    {
     "data": {
      "text/plain": [
       "22.5 6.9 16.5 24.1 9.3 9.3 6.1 8.1 5.7 8.5\n"
      ]
     },
     "execution_count": 25,
     "metadata": {},
     "output_type": "execute_result"
    }
   ],
   "source": [
    "// Enter your code here \n",
    "-10 sublist 20 sublist fares //get the first 20 elements, then get the last 10 of those 20 elements\n",
    "// note that we operate from right to left"
   ]
  },
  {
   "cell_type": "code",
   "execution_count": 26,
   "metadata": {},
   "outputs": [
    {
     "data": {
      "text/plain": [
       "22.5 6.9 16.5 24.1 9.3 9.3 6.1 8.1 5.7 8.5\n"
      ]
     },
     "execution_count": 26,
     "metadata": {},
     "output_type": "execute_result"
    }
   ],
   "source": [
    "ex13[] //check correct output"
   ]
  },
  {
   "cell_type": "markdown",
   "metadata": {},
   "source": [
    "Sublist has a nice property that the number of elements it returns is _capped_ at the size of the list that it operates on. In comparison the [Take operator `#`](https://code.kx.com/q/ref/take/) returns exactly the number of items you specify:"
   ]
  },
  {
   "cell_type": "code",
   "execution_count": 27,
   "metadata": {},
   "outputs": [
    {
     "data": {
      "text/plain": [
       "10000000\n"
      ]
     },
     "execution_count": 27,
     "metadata": {},
     "output_type": "execute_result"
    },
    {
     "data": {
      "text/plain": [
       "1 1 1 1 1 1 1 1 1 1\n"
      ]
     },
     "execution_count": 27,
     "metadata": {},
     "output_type": "execute_result"
    },
    {
     "data": {
      "text/plain": [
       "124208\n"
      ]
     },
     "execution_count": 27,
     "metadata": {},
     "output_type": "execute_result"
    }
   ],
   "source": [
    "count 10000000 # fares\n",
    "a:1\n",
    "10#a\n",
    "count 10000000 sublist fares"
   ]
  },
  {
   "cell_type": "markdown",
   "metadata": {},
   "source": [
    "Let’s put a bit of structure on our list: make a _sorted_ copy of it that we can play with. \n",
    "The [`asc` keyword](https://code.kx.com/q/ref/asc/) does this:"
   ]
  },
  {
   "cell_type": "code",
   "execution_count": 28,
   "metadata": {},
   "outputs": [
    {
     "name": "stdout",
     "output_type": "stream",
     "text": [
      "`s#2.5 2.5 2.5 2.5 2.5 2.5 2.5 2.5 2.5 2.5 2.5 2.5 2.5 2.5 2.5 2.5 2.5 2.5 2...\n"
     ]
    }
   ],
   "source": [
    "show sortedFares:asc fares"
   ]
  },
  {
   "cell_type": "markdown",
   "metadata": {},
   "source": [
    "`sortedFares` has the same `count` and `type` as fares, but now is _sorted_ in ascending order. If you looked only at the first elements of this list, you might conclude that cab journeys in NYC are great value!"
   ]
  },
  {
   "cell_type": "code",
   "execution_count": 29,
   "metadata": {},
   "outputs": [
    {
     "data": {
      "text/plain": [
       "2.5 2.5 2.5 2.5 2.5 2.5 2.5 2.5 2.5 2.5\n"
      ]
     },
     "execution_count": 29,
     "metadata": {},
     "output_type": "execute_result"
    }
   ],
   "source": [
    "10 sublist sortedFares"
   ]
  },
  {
   "cell_type": "markdown",
   "metadata": {
    "reveal": "pjig4458v6",
    "reveal-hidden": true,
    "tags": []
   },
   "source": [
    "##### Exercise 14\n",
    "- Use sublist to obtain the 10 highest values from the sorted List"
   ]
  },
  {
   "cell_type": "code",
   "execution_count": null,
   "metadata": {
    "reveal": "pjig4458v6"
   },
   "outputs": [],
   "source": [
    "-10 sublist sortedFares"
   ]
  },
  {
   "cell_type": "code",
   "execution_count": 36,
   "metadata": {},
   "outputs": [
    {
     "data": {
      "text/plain": [
       "200 190 134.3 128 122 120 112.5 108.5 104 103.1\n"
      ]
     },
     "execution_count": 36,
     "metadata": {},
     "output_type": "execute_result"
    }
   ],
   "source": [
    "// Enter your code here \n",
    "desc -10 sublist distinct sortedFares\n",
    "//get the distinct figures, take the last ten, then sort this new list to give highest to lowest\n",
    "//of the top 10"
   ]
  },
  {
   "cell_type": "code",
   "execution_count": 32,
   "metadata": {},
   "outputs": [
    {
     "data": {
      "text/plain": [
       "104 104 108.5 112.5 120 122 128 134.3 190 200\n"
      ]
     },
     "execution_count": 32,
     "metadata": {},
     "output_type": "execute_result"
    }
   ],
   "source": [
    "ex14[] //check correct output"
   ]
  },
  {
   "cell_type": "markdown",
   "metadata": {},
   "source": [
    "## Obtaining random data\n",
    "\n",
    "An easy trap to fall into – we extracted an _unrepresentative sample_. \n",
    "To pick ten _random_ records from the list, we can use the [Roll `?` operator](https://code.kx.com/q/ref/deal/)"
   ]
  },
  {
   "cell_type": "code",
   "execution_count": 33,
   "metadata": {},
   "outputs": [
    {
     "data": {
      "text/plain": [
       "8.1 6.9 7.7 7.3 6.1 7.3 5.3 11.7 6.5 4.9\n"
      ]
     },
     "execution_count": 33,
     "metadata": {},
     "output_type": "execute_result"
    }
   ],
   "source": [
    "sampleFares:10?sortedFares;\n",
    "sampleFares"
   ]
  },
  {
   "cell_type": "markdown",
   "metadata": {},
   "source": [
    "Lists support _random access_. To pick out the 10th element of a list, we use:"
   ]
  },
  {
   "cell_type": "code",
   "execution_count": 37,
   "metadata": {},
   "outputs": [
    {
     "data": {
      "text/plain": [
       "11.3\n"
      ]
     },
     "execution_count": 37,
     "metadata": {},
     "output_type": "execute_result"
    }
   ],
   "source": [
    "fares[9]"
   ]
  },
  {
   "cell_type": "markdown",
   "metadata": {},
   "source": [
    "The preceding yields an atom, as can be verified by using `type`. A similar approach works for lists of indexes:"
   ]
  },
  {
   "cell_type": "code",
   "execution_count": 38,
   "metadata": {},
   "outputs": [
    {
     "data": {
      "text/plain": [
       "5.7 4.9 4.9 4.5 4.9 15.3 3.7 8.5 13.3 11.3\n"
      ]
     },
     "execution_count": 38,
     "metadata": {},
     "output_type": "execute_result"
    }
   ],
   "source": [
    "fares[0 1 2 3 4 5 6 7 8 9]"
   ]
  },
  {
   "cell_type": "markdown",
   "metadata": {},
   "source": [
    "<img src=\"images/qbies.png\" width=\"50px\" style=\"width: 50px;padding-right:5px;padding-top:20px;padding-left:5px;\" align=\"left\"/><p style='color:#273a6e'><i> Normally, you would use the [`til` keyword](https://code.kx.com/q/ref/til/), to get the list of the first N ints, starting at zero. (As you have seen, q uses zero indexing.) </i></p>"
   ]
  },
  {
   "cell_type": "code",
   "execution_count": 39,
   "metadata": {},
   "outputs": [
    {
     "data": {
      "text/plain": [
       "0 1 2 3 4 5 6 7 8 9\n"
      ]
     },
     "execution_count": 39,
     "metadata": {},
     "output_type": "execute_result"
    },
    {
     "data": {
      "text/plain": [
       "5.7 4.9 4.9 4.5 4.9 15.3 3.7 8.5 13.3 11.3\n"
      ]
     },
     "execution_count": 39,
     "metadata": {},
     "output_type": "execute_result"
    }
   ],
   "source": [
    "til 10\n",
    "fares[til 10]"
   ]
  },
  {
   "cell_type": "markdown",
   "metadata": {
    "reveal": "mz51awmr8h",
    "reveal-hidden": true
   },
   "source": [
    "##### Exercise 15\n",
    "- Extract the 11th to the 20th elements from the fares list using the til keyword"
   ]
  },
  {
   "cell_type": "code",
   "execution_count": null,
   "metadata": {
    "reveal": "mz51awmr8h"
   },
   "outputs": [],
   "source": [
    "fares[10 + til 10]"
   ]
  },
  {
   "cell_type": "code",
   "execution_count": 40,
   "metadata": {},
   "outputs": [
    {
     "data": {
      "text/plain": [
       "22.5 6.9 16.5 24.1 9.3 9.3 6.1 8.1 5.7 8.5\n"
      ]
     },
     "execution_count": 40,
     "metadata": {},
     "output_type": "execute_result"
    }
   ],
   "source": [
    "// Enter your code here\n",
    "fares[10 + til 10]"
   ]
  },
  {
   "cell_type": "code",
   "execution_count": 41,
   "metadata": {},
   "outputs": [
    {
     "data": {
      "text/plain": [
       "22.5 6.9 16.5 24.1 9.3 9.3 6.1 8.1 5.7 8.5\n"
      ]
     },
     "execution_count": 41,
     "metadata": {},
     "output_type": "execute_result"
    }
   ],
   "source": [
    "ex15[] //check correct output"
   ]
  },
  {
   "cell_type": "markdown",
   "metadata": {
    "reveal": "7phb0ychmgw",
    "reveal-hidden": true,
    "tags": []
   },
   "source": [
    "##### Exercise 16\n",
    "- Use indexing to find the middle value in the `sortedFares` list. "
   ]
  },
  {
   "cell_type": "code",
   "execution_count": null,
   "metadata": {
    "reveal": "7phb0ychmgw"
   },
   "outputs": [],
   "source": [
    "sortedFares [`long$(count sortedFares)%2]"
   ]
  },
  {
   "cell_type": "code",
   "execution_count": 44,
   "metadata": {},
   "outputs": [
    {
     "data": {
      "text/plain": [
       "`s#2.5 2.5 2.5 2.5 2.5 2.5 2.5 2.5 2.5 2.5 2.5 2.5 2.5 2.5 2.5 2.5 2.5 2.5 2...\n"
      ]
     },
     "execution_count": 44,
     "metadata": {},
     "output_type": "execute_result"
    },
    {
     "name": "stdout",
     "output_type": "stream",
     "text": [
      "62104f\n",
      "62104\n"
     ]
    },
    {
     "data": {
      "text/plain": [
       "6.9\n"
      ]
     },
     "execution_count": 44,
     "metadata": {},
     "output_type": "execute_result"
    }
   ],
   "source": [
    "// Enter your code here\n",
    "sortedFares\n",
    "a:count sortedFares\n",
    "show b:a%2\n",
    "show c: `long$b\n",
    "sortedFares[c]"
   ]
  },
  {
   "cell_type": "code",
   "execution_count": 45,
   "metadata": {},
   "outputs": [
    {
     "data": {
      "text/plain": [
       "6.9\n"
      ]
     },
     "execution_count": 45,
     "metadata": {},
     "output_type": "execute_result"
    }
   ],
   "source": [
    "ex16[] //check correct output"
   ]
  },
  {
   "cell_type": "markdown",
   "metadata": {},
   "source": [
    "In the case of a simple list, if the index used is too high, a _null_ of the list’s type is returned."
   ]
  },
  {
   "cell_type": "code",
   "execution_count": 46,
   "metadata": {},
   "outputs": [
    {
     "data": {
      "text/plain": [
       "0n\n"
      ]
     },
     "execution_count": 46,
     "metadata": {},
     "output_type": "execute_result"
    },
    {
     "data": {
      "text/plain": [
       "200f\n"
      ]
     },
     "execution_count": 46,
     "metadata": {},
     "output_type": "execute_result"
    }
   ],
   "source": [
    "sortedFares[count sortedFares]\n",
    "sortedFares[-1+count sortedFares]  // index from 0 to N-1"
   ]
  },
  {
   "cell_type": "markdown",
   "metadata": {},
   "source": [
    "The below code block will also obtain the first value from the list: "
   ]
  },
  {
   "cell_type": "code",
   "execution_count": 47,
   "metadata": {},
   "outputs": [
    {
     "data": {
      "text/plain": [
       ",2.5\n"
      ]
     },
     "execution_count": 47,
     "metadata": {},
     "output_type": "execute_result"
    },
    {
     "data": {
      "text/plain": [
       "2.5\n"
      ]
     },
     "execution_count": 47,
     "metadata": {},
     "output_type": "execute_result"
    }
   ],
   "source": [
    "1 sublist sortedFares\n",
    "first sortedFares"
   ]
  },
  {
   "cell_type": "markdown",
   "metadata": {},
   "source": [
    "<img src=\"images/qbies.png\" width=\"50px\" style=\"width: 50px;padding-right:5px;padding-top:20px;padding-left:5px;\" align=\"left\"/><p style='color:#273a6e'><i> Notice the difference between what is returned by `1 sublist sortedFares` and `first sortedFares`. The former returns a one-item list and the second an atom. You can see below how q displays them on the console </i></p>"
   ]
  },
  {
   "cell_type": "markdown",
   "metadata": {},
   "source": [
    "[`enlist`](https://code.kx.com/q/ref/enlist/) returns a list containing the argument passed to it\n",
    "\n",
    "Join `()` to an atom to make a one-item list"
   ]
  },
  {
   "cell_type": "code",
   "execution_count": 48,
   "metadata": {},
   "outputs": [
    {
     "data": {
      "text/plain": [
       ",499\n"
      ]
     },
     "execution_count": 48,
     "metadata": {},
     "output_type": "execute_result"
    },
    {
     "data": {
      "text/plain": [
       ",499\n"
      ]
     },
     "execution_count": 48,
     "metadata": {},
     "output_type": "execute_result"
    }
   ],
   "source": [
    "enlist 499\n",
    "(),499"
   ]
  },
  {
   "cell_type": "markdown",
   "metadata": {},
   "source": [
    "## List Amendment\n",
    "A simple list can be indexed into using the `@` operator:"
   ]
  },
  {
   "cell_type": "code",
   "execution_count": 50,
   "metadata": {},
   "outputs": [
    {
     "data": {
      "text/plain": [
       "0 2 4 6 8\n"
      ]
     },
     "execution_count": 50,
     "metadata": {},
     "output_type": "execute_result"
    },
    {
     "data": {
      "text/plain": [
       "8.1 6.9 7.7 7.3 6.1 7.3 5.3 11.7 6.5 4.9\n"
      ]
     },
     "execution_count": 50,
     "metadata": {},
     "output_type": "execute_result"
    },
    {
     "data": {
      "text/plain": [
       "8.1 7.7 6.1 5.3 6.5\n"
      ]
     },
     "execution_count": 50,
     "metadata": {},
     "output_type": "execute_result"
    },
    {
     "data": {
      "text/plain": [
       "8.1 7.7 6.1 5.3 6.5\n"
      ]
     },
     "execution_count": 50,
     "metadata": {},
     "output_type": "execute_result"
    }
   ],
   "source": [
    "2* til 5\n",
    "10#sampleFares\n",
    "sampleFares[2*til 5]\n",
    "@[sampleFares;(2*til 5)]"
   ]
  },
  {
   "cell_type": "markdown",
   "metadata": {},
   "source": [
    "The `@` operator can be applied with further arguments so that the list can be altered. Below we replace the items at positions `2*til 5` with `99f`."
   ]
  },
  {
   "cell_type": "code",
   "execution_count": 52,
   "metadata": {},
   "outputs": [
    {
     "data": {
      "text/plain": [
       "8.1 6.9 7.7 7.3 6.1 7.3 5.3 11.7 6.5 4.9\n"
      ]
     },
     "execution_count": 52,
     "metadata": {},
     "output_type": "execute_result"
    },
    {
     "data": {
      "text/plain": [
       "99 6.9 99 7.3 99 7.3 99 11.7 99 4.9\n"
      ]
     },
     "execution_count": 52,
     "metadata": {},
     "output_type": "execute_result"
    }
   ],
   "source": [
    "// index into sampleFares\n",
    "// using list of indexes (2*til 5)\n",
    "// assign these values - :\n",
    "// the value 99f\n",
    "sampleFares[til 10]\n",
    "@[sampleFares;(2*til 5);:;99f]  "
   ]
  },
  {
   "cell_type": "markdown",
   "metadata": {},
   "source": [
    "Below we use `+` instead of `:` – instead of replacing the items, we add `99f` to them."
   ]
  },
  {
   "cell_type": "code",
   "execution_count": 53,
   "metadata": {},
   "outputs": [
    {
     "data": {
      "text/plain": [
       "107.1 6.9 106.7 7.3 105.1 7.3 104.3 11.7 105.5 4.9\n"
      ]
     },
     "execution_count": 53,
     "metadata": {},
     "output_type": "execute_result"
    }
   ],
   "source": [
    "@[sampleFares;(2*til 5);+;99f]\n",
    "//can use -, *, etc"
   ]
  },
  {
   "cell_type": "markdown",
   "metadata": {},
   "source": [
    "The above is not a persistent change - it will make a copy of the `fares` list with a single value changed and display the result at the terminal, but there is no change to the `fares` list. "
   ]
  },
  {
   "cell_type": "code",
   "execution_count": 55,
   "metadata": {},
   "outputs": [
    {
     "data": {
      "text/plain": [
       "8.1 6.9 7.7 7.3 6.1 7.3 5.3 11.7 6.5 4.9\n"
      ]
     },
     "execution_count": 55,
     "metadata": {},
     "output_type": "execute_result"
    }
   ],
   "source": [
    "sampleFares  // original list not updated"
   ]
  },
  {
   "cell_type": "markdown",
   "metadata": {},
   "source": [
    "To persist the change, prefix the name of the list with a back-tick; or assign the result to a name:"
   ]
  },
  {
   "cell_type": "code",
   "execution_count": 56,
   "metadata": {},
   "outputs": [
    {
     "data": {
      "text/plain": [
       "0n 4.9 0n 4.5 0n 15.3 0n 8.5 13.3 11.3 22.5 6.9 16.5 24.1 9.3 9.3 6.1 8.1 5.7..\n"
      ]
     },
     "execution_count": 56,
     "metadata": {},
     "output_type": "execute_result"
    },
    {
     "data": {
      "text/plain": [
       "`fares\n"
      ]
     },
     "execution_count": 56,
     "metadata": {},
     "output_type": "execute_result"
    },
    {
     "data": {
      "text/plain": [
       "0n 4.9 0n 4.5 0n 15.3 0n 8.5 13.3 11.3 22.5 6.9 16.5 24.1 9.3 9.3 6.1 8.1 5.7..\n"
      ]
     },
     "execution_count": 56,
     "metadata": {},
     "output_type": "execute_result"
    }
   ],
   "source": [
    "test:@[fares;(2*til 4);:;0Nf]\n",
    "test\n",
    "@[`fares;(2*til 4);:;0Nf]\n",
    "fares"
   ]
  },
  {
   "cell_type": "markdown",
   "metadata": {},
   "source": [
    "Extend a list by appending to to it using the [Join operator `,`](https://code.kx.com/q/ref/join/)."
   ]
  },
  {
   "cell_type": "code",
   "execution_count": 57,
   "metadata": {},
   "outputs": [
    {
     "data": {
      "text/plain": [
       "4.9 44.5 5.3 19.3 9.3 8.9 45 9.7 4.5 12.34\n"
      ]
     },
     "execution_count": 57,
     "metadata": {},
     "output_type": "execute_result"
    }
   ],
   "source": [
    "fares,:12.34\n",
    "-10#fares    // inspect the end of the list to see the appended value"
   ]
  },
  {
   "cell_type": "markdown",
   "metadata": {},
   "source": [
    "Perhaps some data has been lost lost, or otherwise corrupted. kdb+/q handles null values. Is this a problem for us?"
   ]
  },
  {
   "cell_type": "code",
   "execution_count": 58,
   "metadata": {},
   "outputs": [
    {
     "data": {
      "text/plain": [
       "1b\n"
      ]
     },
     "execution_count": 58,
     "metadata": {},
     "output_type": "execute_result"
    }
   ],
   "source": [
    "any null fares"
   ]
  },
  {
   "cell_type": "markdown",
   "metadata": {},
   "source": [
    "This is exactly equivalent to using `any[null[fares]]` – but perhaps a little cleaner? Your mileage may vary!\n",
    "\n",
    "The [`null` keyword](https://code.kx.com/q/ref/null/) flags nulls."
   ]
  },
  {
   "cell_type": "code",
   "execution_count": 63,
   "metadata": {},
   "outputs": [
    {
     "data": {
      "text/plain": [
       "0 2 4 6\n"
      ]
     },
     "execution_count": 63,
     "metadata": {},
     "output_type": "execute_result"
    }
   ],
   "source": [
    "where null fares"
   ]
  },
  {
   "cell_type": "markdown",
   "metadata": {
    "reveal": "cxij7tti39",
    "reveal-hidden": false,
    "tags": []
   },
   "source": [
    "##### Exercise 17\n",
    "\n",
    "Amend the fares list to replace the null values to be equal to the average value."
   ]
  },
  {
   "cell_type": "code",
   "execution_count": null,
   "metadata": {
    "reveal": "cxij7tti39"
   },
   "outputs": [],
   "source": [
    "@[fares;where null fares;:;avg fares]"
   ]
  },
  {
   "cell_type": "code",
   "execution_count": 62,
   "metadata": {},
   "outputs": [
    {
     "name": "stdout",
     "output_type": "stream",
     "text": [
      "9.434303 4.9 9.434303 4.5 9.434303 15.3 9.434303 8.5 13.3 11.3 22.5 6.9 16.5 ..\n"
     ]
    }
   ],
   "source": [
    "// Enter your code here\n",
    "newFares:show @[fares;(where null fares);:;avg fares]\n"
   ]
  },
  {
   "cell_type": "code",
   "execution_count": 60,
   "metadata": {},
   "outputs": [
    {
     "data": {
      "text/plain": [
       "9.434303 4.9 9.434303 4.5 9.434303 15.3 9.434303 8.5 13.3 11.3 22.5 6.9 16.5 ..\n"
      ]
     },
     "execution_count": 60,
     "metadata": {},
     "output_type": "execute_result"
    }
   ],
   "source": [
    "ex17[] //check correct output"
   ]
  },
  {
   "cell_type": "markdown",
   "metadata": {},
   "source": [
    "# Dictionaries \n",
    "[Dictionaries](https://code.kx.com/q/basics/dictsandtables/) are first-class objects in q. (They are known as *hashmaps* in some other languages.) \n",
    "\n",
    "Use the [Dict operator `!`](https://code.kx.com/q/ref/dict/) to make a dictionary from a list of keys and a list of values."
   ]
  },
  {
   "cell_type": "code",
   "execution_count": 2,
   "metadata": {},
   "outputs": [
    {
     "data": {
      "text/plain": [
       "a| 0\n",
       "b| 1\n"
      ]
     },
     "execution_count": 2,
     "metadata": {},
     "output_type": "execute_result"
    }
   ],
   "source": [
    "d:`a`b!0 1\n",
    "d"
   ]
  },
  {
   "cell_type": "markdown",
   "metadata": {},
   "source": [
    "We can access and update existing values being passing in the key to the variable name:"
   ]
  },
  {
   "cell_type": "code",
   "execution_count": 4,
   "metadata": {},
   "outputs": [
    {
     "data": {
      "text/plain": [
       "0\n"
      ]
     },
     "execution_count": 4,
     "metadata": {},
     "output_type": "execute_result"
    },
    {
     "data": {
      "text/plain": [
       "a| 2\n",
       "b| 1\n"
      ]
     },
     "execution_count": 4,
     "metadata": {},
     "output_type": "execute_result"
    }
   ],
   "source": [
    "d[`a]\n",
    "d[`a]:2\n",
    "d"
   ]
  },
  {
   "cell_type": "markdown",
   "metadata": {},
   "source": [
    "We can also add keys to the existing dictionary:"
   ]
  },
  {
   "cell_type": "code",
   "execution_count": 5,
   "metadata": {},
   "outputs": [
    {
     "data": {
      "text/plain": [
       "a| 2\n",
       "b| 1\n",
       "c| 3\n"
      ]
     },
     "execution_count": 5,
     "metadata": {},
     "output_type": "execute_result"
    }
   ],
   "source": [
    "d[`c]:3 // add a new key/value pair to d\n",
    "d "
   ]
  },
  {
   "cell_type": "markdown",
   "metadata": {},
   "source": [
    "A dictionary can be joined to another dictionary. Below we have two examples:\n",
    "1. Add values of two dictionaries\n",
    "2. Join two dictionaries, prioritising values from the right-hand dictionary"
   ]
  },
  {
   "cell_type": "code",
   "execution_count": 7,
   "metadata": {},
   "outputs": [
    {
     "data": {
      "text/plain": [
       "a| 5\n",
       "b| 6\n",
       "c| 7\n",
       "d| 8\n"
      ]
     },
     "execution_count": 7,
     "metadata": {},
     "output_type": "execute_result"
    }
   ],
   "source": [
    "d1:`a`b`c`d!5 6 7 8\n",
    "d1"
   ]
  },
  {
   "cell_type": "code",
   "execution_count": 8,
   "metadata": {},
   "outputs": [
    {
     "data": {
      "text/plain": [
       "a| 7\n",
       "b| 7\n",
       "c| 10\n",
       "d| 8\n"
      ]
     },
     "execution_count": 8,
     "metadata": {},
     "output_type": "execute_result"
    },
    {
     "data": {
      "text/plain": [
       "a| 5\n",
       "b| 6\n",
       "c| 7\n",
       "d| 8\n"
      ]
     },
     "execution_count": 8,
     "metadata": {},
     "output_type": "execute_result"
    }
   ],
   "source": [
    "d+d1 // add values for common keys\n",
    "d,d1 // catenation - updates values for common keys, inserts new keys. Typical application is updating a snapshot with deltas."
   ]
  },
  {
   "cell_type": "markdown",
   "metadata": {},
   "source": [
    "# Tables \n",
    "Tables are first-class objects in q. Any list of 'like dictionaries' (meaning mulitple dictionaries with the same key) is a table. They can also be constructed with table notation or from column dictionaries.\n",
    "\n",
    "1. Creating a table from a list of like dictionaries"
   ]
  },
  {
   "cell_type": "code",
   "execution_count": 9,
   "metadata": {},
   "outputs": [
    {
     "data": {
      "text/plain": [
       "a b\n",
       "---\n",
       "0 1\n",
       "2 3\n"
      ]
     },
     "execution_count": 9,
     "metadata": {},
     "output_type": "execute_result"
    }
   ],
   "source": [
    "(`a`b!0 1;`a`b!2 3)"
   ]
  },
  {
   "cell_type": "markdown",
   "metadata": {},
   "source": [
    "2. Creating a table with [table notation](https://code.kx.com/q/kb/faq/#table-notation)"
   ]
  },
  {
   "cell_type": "code",
   "execution_count": 10,
   "metadata": {},
   "outputs": [
    {
     "data": {
      "text/plain": [
       "a b\n",
       "---\n",
       "0 1\n",
       "2 3\n"
      ]
     },
     "execution_count": 10,
     "metadata": {},
     "output_type": "execute_result"
    }
   ],
   "source": [
    "([]a:0 2;b:1 3)"
   ]
  },
  {
   "cell_type": "markdown",
   "metadata": {},
   "source": [
    "3. Creating a table from a [column dictionary](https://code.kx.com/q/kb/faq/#flip-a-column-dictionary). A table is a transpose (flip) of a conforming dictionary (key of symbols, value of list of equal length lists)."
   ]
  },
  {
   "cell_type": "code",
   "execution_count": 12,
   "metadata": {},
   "outputs": [
    {
     "data": {
      "text/plain": [
       "a b\n",
       "---\n",
       "0 1\n",
       "2 3\n"
      ]
     },
     "execution_count": 12,
     "metadata": {},
     "output_type": "execute_result"
    },
    {
     "data": {
      "text/plain": [
       "a| 0 2\n",
       "b| 1 3\n"
      ]
     },
     "execution_count": 12,
     "metadata": {},
     "output_type": "execute_result"
    }
   ],
   "source": [
    "flip `a`b!(0 2;1 3) \n",
    "`a`b !(0 2; 1 3)"
   ]
  },
  {
   "cell_type": "markdown",
   "metadata": {},
   "source": [
    "We can also add tables together"
   ]
  },
  {
   "cell_type": "code",
   "execution_count": 13,
   "metadata": {},
   "outputs": [
    {
     "data": {
      "text/plain": [
       "a b \n",
       "----\n",
       "4 7 \n",
       "7 10\n"
      ]
     },
     "execution_count": 13,
     "metadata": {},
     "output_type": "execute_result"
    }
   ],
   "source": [
    "([]a:0 2;b:1 3)+([]a:4 5;b:6 7)"
   ]
  },
  {
   "cell_type": "markdown",
   "metadata": {},
   "source": [
    "Tables can be keyed. Here are two of the ways to create a [keyed table](https://code.kx.com/q/kb/faq/#keyed-tables).\n",
    "\n",
    "1. Specify key columns with the [`xkey` keyword](https://code.kx.com/q/ref/xkey/)"
   ]
  },
  {
   "cell_type": "code",
   "execution_count": 14,
   "metadata": {},
   "outputs": [
    {
     "data": {
      "text/plain": [
       "a| b\n",
       "-| -\n",
       "0| 1\n",
       "2| 3\n"
      ]
     },
     "execution_count": 14,
     "metadata": {},
     "output_type": "execute_result"
    }
   ],
   "source": [
    "k:`a xkey ([]a:0 2;b:1 3)\n",
    "k"
   ]
  },
  {
   "cell_type": "markdown",
   "metadata": {},
   "source": [
    "2. Specify key columns in the table notation."
   ]
  },
  {
   "cell_type": "code",
   "execution_count": 16,
   "metadata": {},
   "outputs": [
    {
     "data": {
      "text/plain": [
       "a| b\n",
       "-| -\n",
       "0| 1\n",
       "2| 3\n"
      ]
     },
     "execution_count": 16,
     "metadata": {},
     "output_type": "execute_result"
    },
    {
     "data": {
      "text/plain": [
       "a b| c\n",
       "---| -\n",
       "0 1| 4\n",
       "2 3| 5\n"
      ]
     },
     "execution_count": 16,
     "metadata": {},
     "output_type": "execute_result"
    },
    {
     "data": {
      "text/plain": [
       "a b| c\n",
       "---| -\n",
       "0 1| 4\n",
       "2 3| 5\n"
      ]
     },
     "execution_count": 16,
     "metadata": {},
     "output_type": "execute_result"
    }
   ],
   "source": [
    "([a:0 2]b:1 3)\n",
    "([a:0 2;b:1 3]c:4 5)\n",
    "`a`b xkey ([]a:0 2;b:1 3;c:4 5)"
   ]
  },
  {
   "cell_type": "markdown",
   "metadata": {},
   "source": [
    "Working with a keyed table is similar to working with a dictionary. We obtain the keys and values with `key` and `value`:"
   ]
  },
  {
   "cell_type": "code",
   "execution_count": 17,
   "metadata": {},
   "outputs": [
    {
     "data": {
      "text/plain": [
       "a\n",
       "-\n",
       "0\n",
       "2\n"
      ]
     },
     "execution_count": 17,
     "metadata": {},
     "output_type": "execute_result"
    },
    {
     "data": {
      "text/plain": [
       "b\n",
       "-\n",
       "1\n",
       "3\n"
      ]
     },
     "execution_count": 17,
     "metadata": {},
     "output_type": "execute_result"
    }
   ],
   "source": [
    "key k\n",
    "value k"
   ]
  },
  {
   "cell_type": "markdown",
   "metadata": {},
   "source": [
    "A keyed table is a dictionary where both key and values are tables:"
   ]
  },
  {
   "cell_type": "code",
   "execution_count": 18,
   "metadata": {},
   "outputs": [
    {
     "data": {
      "text/plain": [
       "a| b\n",
       "-| -\n",
       "0| 1\n",
       "2| 3\n"
      ]
     },
     "execution_count": 18,
     "metadata": {},
     "output_type": "execute_result"
    }
   ],
   "source": [
    "key[k]!value k"
   ]
  },
  {
   "cell_type": "markdown",
   "metadata": {},
   "source": [
    "And as such, we can perform lookups on the keys to obtain values based on the keys:"
   ]
  },
  {
   "cell_type": "code",
   "execution_count": 20,
   "metadata": {},
   "outputs": [
    {
     "data": {
      "text/plain": [
       "b\n",
       "-\n",
       "1\n",
       " \n",
       "3\n"
      ]
     },
     "execution_count": 20,
     "metadata": {},
     "output_type": "execute_result"
    },
    {
     "data": {
      "text/plain": [
       "a| b\n",
       "-| -\n",
       "0| 1\n",
       "1|  \n",
       "2| 3\n"
      ]
     },
     "execution_count": 20,
     "metadata": {},
     "output_type": "execute_result"
    }
   ],
   "source": [
    "k([]a:0 1 2)\n",
    "([]a:0 1 2)#k"
   ]
  },
  {
   "cell_type": "markdown",
   "metadata": {
    "reveal": "nfgovgij689",
    "reveal-hidden": true,
    "tags": []
   },
   "source": [
    "##### Exercise 18\n",
    "\n",
    "a.  Create a dictionary with keys, `a`, `b`, and `c`, and assign to each key a list of three random ints."
   ]
  },
  {
   "cell_type": "code",
   "execution_count": 23,
   "metadata": {
    "reveal": "nfgovgij689"
   },
   "outputs": [
    {
     "data": {
      "text/plain": [
       "a| 0 5 3\n",
       "b| 2 2 3\n",
       "c| 9 8 4\n"
      ]
     },
     "execution_count": 23,
     "metadata": {},
     "output_type": "execute_result"
    }
   ],
   "source": [
    "dict:`a`b`c!(3?10i;3?10i;3?10i)\n",
    "dict"
   ]
  },
  {
   "cell_type": "code",
   "execution_count": 31,
   "metadata": {},
   "outputs": [
    {
     "name": "stdout",
     "output_type": "stream",
     "text": [
      "a| 3 9 4\n",
      "b| 9 1 2\n",
      "c| 1 6 4\n"
     ]
    }
   ],
   "source": [
    "// Enter your code here \n",
    "show dict:`a`b`c !(3?10i;3?10i;3?10i)"
   ]
  },
  {
   "cell_type": "code",
   "execution_count": 25,
   "metadata": {},
   "outputs": [
    {
     "data": {
      "text/plain": [
       "a| 3 3 0\n",
       "b| 8 9 7\n",
       "c| 3 9 7\n"
      ]
     },
     "execution_count": 25,
     "metadata": {},
     "output_type": "execute_result"
    }
   ],
   "source": [
    "exer18_a[] //check correct output"
   ]
  },
  {
   "cell_type": "markdown",
   "metadata": {
    "reveal": "d6c5offgpcb",
    "reveal-hidden": true,
    "tags": []
   },
   "source": [
    "Add a new key, `d` with double the values of key `a`."
   ]
  },
  {
   "cell_type": "code",
   "execution_count": 28,
   "metadata": {
    "reveal": "d6c5offgpcb"
   },
   "outputs": [
    {
     "data": {
      "text/plain": [
       "a| 3 3 0\n",
       "b| 8 9 7\n",
       "c| 3 9 7\n",
       "d| 6 6 0\n"
      ]
     },
     "execution_count": 28,
     "metadata": {},
     "output_type": "execute_result"
    }
   ],
   "source": [
    "dict[`d]:2*dict[`a]\n",
    "dict"
   ]
  },
  {
   "cell_type": "code",
   "execution_count": 33,
   "metadata": {},
   "outputs": [
    {
     "data": {
      "text/plain": [
       "a| 3 9  4\n",
       "b| 9 1  2\n",
       "c| 1 6  4\n",
       "d| 6 18 8\n"
      ]
     },
     "execution_count": 33,
     "metadata": {},
     "output_type": "execute_result"
    }
   ],
   "source": [
    "// Enter your code here\n",
    "dict[`d]:2*dict[`a]\n",
    "dict"
   ]
  },
  {
   "cell_type": "code",
   "execution_count": null,
   "metadata": {},
   "outputs": [],
   "source": [
    "exer18_b[] //check correct output"
   ]
  },
  {
   "cell_type": "markdown",
   "metadata": {
    "reveal": "8gbw7cep5zv",
    "reveal-hidden": true,
    "tags": []
   },
   "source": [
    "c. Make a table from the dictionary"
   ]
  },
  {
   "cell_type": "code",
   "execution_count": null,
   "metadata": {
    "reveal": "8gbw7cep5zv"
   },
   "outputs": [],
   "source": [
    "tab:flip dict\n",
    "tab"
   ]
  },
  {
   "cell_type": "code",
   "execution_count": 35,
   "metadata": {},
   "outputs": [
    {
     "data": {
      "text/plain": [
       "a b c d \n",
       "--------\n",
       "3 9 1 6 \n",
       "9 1 6 18\n",
       "4 2 4 8 \n"
      ]
     },
     "execution_count": 35,
     "metadata": {},
     "output_type": "execute_result"
    }
   ],
   "source": [
    "// Enter your code here\n",
    "flip dict"
   ]
  },
  {
   "cell_type": "code",
   "execution_count": 36,
   "metadata": {},
   "outputs": [
    {
     "data": {
      "text/plain": [
       "a b c d \n",
       "--------\n",
       "3 9 1 6 \n",
       "9 1 6 18\n",
       "4 2 4 8 \n"
      ]
     },
     "execution_count": 36,
     "metadata": {},
     "output_type": "execute_result"
    }
   ],
   "source": [
    "exer18_c[] //check correct output"
   ]
  },
  {
   "cell_type": "markdown",
   "metadata": {
    "reveal": "m4xz426r55k",
    "reveal-hidden": true
   },
   "source": [
    "d. Make a new table by joining the table to itself"
   ]
  },
  {
   "cell_type": "code",
   "execution_count": null,
   "metadata": {
    "reveal": "m4xz426r55k"
   },
   "outputs": [],
   "source": [
    "tab2:tab,tab\n",
    "tab2"
   ]
  },
  {
   "cell_type": "code",
   "execution_count": 37,
   "metadata": {},
   "outputs": [
    {
     "data": {
      "text/plain": [
       "a b c d \n",
       "--------\n",
       "3 9 1 6 \n",
       "9 1 6 18\n",
       "4 2 4 8 \n",
       "3 9 1 6 \n",
       "9 1 6 18\n",
       "4 2 4 8 \n"
      ]
     },
     "execution_count": 37,
     "metadata": {},
     "output_type": "execute_result"
    }
   ],
   "source": [
    "// Enter your code here\n",
    "new:flip dict\n",
    "new,new"
   ]
  },
  {
   "cell_type": "code",
   "execution_count": 38,
   "metadata": {},
   "outputs": [
    {
     "data": {
      "text/plain": [
       "a b c d \n",
       "--------\n",
       "3 9 1 6 \n",
       "9 1 6 18\n",
       "4 2 4 8 \n",
       "3 9 1 6 \n",
       "9 1 6 18\n",
       "4 2 4 8 \n"
      ]
     },
     "execution_count": 38,
     "metadata": {},
     "output_type": "execute_result"
    }
   ],
   "source": [
    "exer18_d[] //check correct output"
   ]
  },
  {
   "cell_type": "markdown",
   "metadata": {
    "reveal": "eynl4jle6ab",
    "reveal-hidden": true,
    "tags": []
   },
   "source": [
    "e. Make column `b` the key of this new table"
   ]
  },
  {
   "cell_type": "code",
   "execution_count": null,
   "metadata": {
    "reveal": "eynl4jle6ab"
   },
   "outputs": [],
   "source": [
    "tabKeyed:`b xkey tab2\n",
    "tabKeyed"
   ]
  },
  {
   "cell_type": "code",
   "execution_count": 39,
   "metadata": {},
   "outputs": [
    {
     "name": "stdout",
     "output_type": "stream",
     "text": [
      "b| a c d \n",
      "-| ------\n",
      "9| 3 1 6 \n",
      "1| 9 6 18\n",
      "2| 4 4 8 \n"
     ]
    }
   ],
   "source": [
    "// Enter your code here \n",
    "show keyed_new:`b xkey new"
   ]
  },
  {
   "cell_type": "code",
   "execution_count": null,
   "metadata": {},
   "outputs": [],
   "source": [
    "exer18_e[] //check correct output"
   ]
  },
  {
   "cell_type": "markdown",
   "metadata": {
    "reveal": "nsz4c7l8989",
    "reveal-hidden": false,
    "tags": []
   },
   "source": [
    "f. Compare the types of all the generated tables and dictionaries. What do you notice?"
   ]
  },
  {
   "cell_type": "code",
   "execution_count": null,
   "metadata": {
    "reveal": "nsz4c7l8989"
   },
   "outputs": [],
   "source": [
    "type each (dict;tab;tabKeyed)"
   ]
  },
  {
   "cell_type": "code",
   "execution_count": 40,
   "metadata": {},
   "outputs": [
    {
     "data": {
      "text/plain": [
       "98h\n"
      ]
     },
     "execution_count": 40,
     "metadata": {},
     "output_type": "execute_result"
    },
    {
     "data": {
      "text/plain": [
       "99h\n"
      ]
     },
     "execution_count": 40,
     "metadata": {},
     "output_type": "execute_result"
    }
   ],
   "source": [
    "// Enter your code here \n",
    "type new\n",
    "type keyed_new"
   ]
  },
  {
   "cell_type": "code",
   "execution_count": 41,
   "metadata": {},
   "outputs": [
    {
     "data": {
      "text/plain": [
       "dict| 99\n",
       "tab | 98\n",
       "tab2| 98\n",
       "tabk| 99\n"
      ]
     },
     "execution_count": 41,
     "metadata": {},
     "output_type": "execute_result"
    }
   ],
   "source": [
    "// Run this cell to compare results\n",
    "exer18_f[]"
   ]
  },
  {
   "cell_type": "code",
   "execution_count": null,
   "metadata": {},
   "outputs": [],
   "source": []
  }
 ],
 "metadata": {
  "kernelspec": {
   "display_name": "Q (kdb+)",
   "language": "q",
   "name": "qpk"
  },
  "language_info": {
   "file_extension": ".q",
   "mimetype": "text/x-q",
   "name": "q",
   "version": "4.1.0"
  },
  "toc": {
   "base_numbering": 1,
   "nav_menu": {},
   "number_sections": true,
   "sideBar": true,
   "skip_h1_title": false,
   "title_cell": "Table of Contents",
   "title_sidebar": "Contents",
   "toc_cell": false,
   "toc_position": {},
   "toc_section_display": true,
   "toc_window_display": false
  }
 },
 "nbformat": 4,
 "nbformat_minor": 4
}
